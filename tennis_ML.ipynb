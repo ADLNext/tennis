{
 "cells": [
  {
   "cell_type": "markdown",
   "metadata": {},
   "source": [
    "# Tennis match outcome prediction\n",
    "\n",
    "The purpose of this notebook is to explore the possibility of predicting the outcome of a tennis match based on the previous history (data available from 2013) of the two players"
   ]
  },
  {
   "cell_type": "code",
   "execution_count": 1,
   "metadata": {
    "collapsed": true
   },
   "outputs": [],
   "source": [
    "import numpy as np\n",
    "import pandas as pd\n",
    "\n",
    "import matplotlib.pyplot as plt\n",
    "%matplotlib inline\n",
    "\n",
    "import seaborn as sns\n",
    "sns.set()"
   ]
  },
  {
   "cell_type": "code",
   "execution_count": 2,
   "metadata": {
    "collapsed": true
   },
   "outputs": [],
   "source": [
    "from sklearn import svm\n",
    "from sklearn import tree\n",
    "from sklearn.neural_network import MLPClassifier\n",
    "from sklearn.ensemble import RandomForestClassifier\n",
    "\n",
    "from sklearn.metrics import classification_report, confusion_matrix\n",
    "from sklearn.model_selection import train_test_split, cross_val_predict"
   ]
  },
  {
   "cell_type": "markdown",
   "metadata": {},
   "source": [
    "## Dataset\n",
    "\n",
    "I'll start by importing the data from the xlsx files; there is one file per year, so I am merging all of them in one single dataframe"
   ]
  },
  {
   "cell_type": "code",
   "execution_count": 3,
   "metadata": {},
   "outputs": [
    {
     "data": {
      "text/html": [
       "<div>\n",
       "<style>\n",
       "    .dataframe thead tr:only-child th {\n",
       "        text-align: right;\n",
       "    }\n",
       "\n",
       "    .dataframe thead th {\n",
       "        text-align: left;\n",
       "    }\n",
       "\n",
       "    .dataframe tbody tr th {\n",
       "        vertical-align: top;\n",
       "    }\n",
       "</style>\n",
       "<table border=\"1\" class=\"dataframe\">\n",
       "  <thead>\n",
       "    <tr style=\"text-align: right;\">\n",
       "      <th></th>\n",
       "      <th>ATP</th>\n",
       "      <th>AvgL</th>\n",
       "      <th>AvgW</th>\n",
       "      <th>B365L</th>\n",
       "      <th>B365W</th>\n",
       "      <th>Best of</th>\n",
       "      <th>Comment</th>\n",
       "      <th>Court</th>\n",
       "      <th>Date</th>\n",
       "      <th>EXL</th>\n",
       "      <th>...</th>\n",
       "      <th>Tournament</th>\n",
       "      <th>W1</th>\n",
       "      <th>W2</th>\n",
       "      <th>W3</th>\n",
       "      <th>W4</th>\n",
       "      <th>W5</th>\n",
       "      <th>WPts</th>\n",
       "      <th>WRank</th>\n",
       "      <th>Winner</th>\n",
       "      <th>Wsets</th>\n",
       "    </tr>\n",
       "  </thead>\n",
       "  <tbody>\n",
       "    <tr>\n",
       "      <th>0</th>\n",
       "      <td>1</td>\n",
       "      <td>3.50</td>\n",
       "      <td>1.29</td>\n",
       "      <td>3.50</td>\n",
       "      <td>1.28</td>\n",
       "      <td>3</td>\n",
       "      <td>Completed</td>\n",
       "      <td>Outdoor</td>\n",
       "      <td>2017-01-01</td>\n",
       "      <td>3.50</td>\n",
       "      <td>...</td>\n",
       "      <td>Brisbane International</td>\n",
       "      <td>6.0</td>\n",
       "      <td>6.0</td>\n",
       "      <td>NaN</td>\n",
       "      <td>NaN</td>\n",
       "      <td>NaN</td>\n",
       "      <td>689.0</td>\n",
       "      <td>79.0</td>\n",
       "      <td>Thompson J.</td>\n",
       "      <td>2.0</td>\n",
       "    </tr>\n",
       "    <tr>\n",
       "      <th>1</th>\n",
       "      <td>1</td>\n",
       "      <td>2.43</td>\n",
       "      <td>1.54</td>\n",
       "      <td>2.50</td>\n",
       "      <td>1.50</td>\n",
       "      <td>3</td>\n",
       "      <td>Completed</td>\n",
       "      <td>Outdoor</td>\n",
       "      <td>2017-01-02</td>\n",
       "      <td>2.35</td>\n",
       "      <td>...</td>\n",
       "      <td>Brisbane International</td>\n",
       "      <td>4.0</td>\n",
       "      <td>6.0</td>\n",
       "      <td>6.0</td>\n",
       "      <td>NaN</td>\n",
       "      <td>NaN</td>\n",
       "      <td>1102.0</td>\n",
       "      <td>39.0</td>\n",
       "      <td>Mahut N.</td>\n",
       "      <td>2.0</td>\n",
       "    </tr>\n",
       "    <tr>\n",
       "      <th>2</th>\n",
       "      <td>1</td>\n",
       "      <td>1.77</td>\n",
       "      <td>2.01</td>\n",
       "      <td>1.80</td>\n",
       "      <td>1.90</td>\n",
       "      <td>3</td>\n",
       "      <td>Completed</td>\n",
       "      <td>Outdoor</td>\n",
       "      <td>2017-01-02</td>\n",
       "      <td>1.75</td>\n",
       "      <td>...</td>\n",
       "      <td>Brisbane International</td>\n",
       "      <td>6.0</td>\n",
       "      <td>7.0</td>\n",
       "      <td>NaN</td>\n",
       "      <td>NaN</td>\n",
       "      <td>NaN</td>\n",
       "      <td>1785.0</td>\n",
       "      <td>21.0</td>\n",
       "      <td>Ferrer D.</td>\n",
       "      <td>2.0</td>\n",
       "    </tr>\n",
       "    <tr>\n",
       "      <th>3</th>\n",
       "      <td>1</td>\n",
       "      <td>3.01</td>\n",
       "      <td>1.37</td>\n",
       "      <td>3.00</td>\n",
       "      <td>1.36</td>\n",
       "      <td>3</td>\n",
       "      <td>Completed</td>\n",
       "      <td>Outdoor</td>\n",
       "      <td>2017-01-02</td>\n",
       "      <td>2.75</td>\n",
       "      <td>...</td>\n",
       "      <td>Brisbane International</td>\n",
       "      <td>7.0</td>\n",
       "      <td>7.0</td>\n",
       "      <td>NaN</td>\n",
       "      <td>NaN</td>\n",
       "      <td>NaN</td>\n",
       "      <td>1001.0</td>\n",
       "      <td>45.0</td>\n",
       "      <td>Edmund K.</td>\n",
       "      <td>2.0</td>\n",
       "    </tr>\n",
       "    <tr>\n",
       "      <th>4</th>\n",
       "      <td>1</td>\n",
       "      <td>2.85</td>\n",
       "      <td>1.41</td>\n",
       "      <td>2.75</td>\n",
       "      <td>1.40</td>\n",
       "      <td>3</td>\n",
       "      <td>Completed</td>\n",
       "      <td>Outdoor</td>\n",
       "      <td>2017-01-02</td>\n",
       "      <td>2.65</td>\n",
       "      <td>...</td>\n",
       "      <td>Brisbane International</td>\n",
       "      <td>6.0</td>\n",
       "      <td>6.0</td>\n",
       "      <td>NaN</td>\n",
       "      <td>NaN</td>\n",
       "      <td>NaN</td>\n",
       "      <td>2035.0</td>\n",
       "      <td>17.0</td>\n",
       "      <td>Dimitrov G.</td>\n",
       "      <td>2.0</td>\n",
       "    </tr>\n",
       "  </tbody>\n",
       "</table>\n",
       "<p>5 rows × 42 columns</p>\n",
       "</div>"
      ],
      "text/plain": [
       "   ATP  AvgL  AvgW  B365L  B365W  Best of    Comment    Court       Date  \\\n",
       "0    1  3.50  1.29   3.50   1.28        3  Completed  Outdoor 2017-01-01   \n",
       "1    1  2.43  1.54   2.50   1.50        3  Completed  Outdoor 2017-01-02   \n",
       "2    1  1.77  2.01   1.80   1.90        3  Completed  Outdoor 2017-01-02   \n",
       "3    1  3.01  1.37   3.00   1.36        3  Completed  Outdoor 2017-01-02   \n",
       "4    1  2.85  1.41   2.75   1.40        3  Completed  Outdoor 2017-01-02   \n",
       "\n",
       "    EXL  ...                Tournament   W1   W2   W3  W4  W5    WPts  WRank  \\\n",
       "0  3.50  ...    Brisbane International  6.0  6.0  NaN NaN NaN   689.0   79.0   \n",
       "1  2.35  ...    Brisbane International  4.0  6.0  6.0 NaN NaN  1102.0   39.0   \n",
       "2  1.75  ...    Brisbane International  6.0  7.0  NaN NaN NaN  1785.0   21.0   \n",
       "3  2.75  ...    Brisbane International  7.0  7.0  NaN NaN NaN  1001.0   45.0   \n",
       "4  2.65  ...    Brisbane International  6.0  6.0  NaN NaN NaN  2035.0   17.0   \n",
       "\n",
       "        Winner  Wsets  \n",
       "0  Thompson J.    2.0  \n",
       "1     Mahut N.    2.0  \n",
       "2    Ferrer D.    2.0  \n",
       "3    Edmund K.    2.0  \n",
       "4  Dimitrov G.    2.0  \n",
       "\n",
       "[5 rows x 42 columns]"
      ]
     },
     "execution_count": 3,
     "metadata": {},
     "output_type": "execute_result"
    }
   ],
   "source": [
    "df = pd.concat([\n",
    "    pd.read_excel('data/matches/2017.xlsx'),\n",
    "    pd.read_excel('data/matches/2016.xlsx'),\n",
    "    pd.read_excel('data/matches/2015.xlsx'),\n",
    "    pd.read_excel('data/matches/2014.xlsx'),\n",
    "    pd.read_excel('data/matches/2013.xlsx')\n",
    "], axis = 0)\n",
    "\n",
    "df.head()"
   ]
  },
  {
   "cell_type": "markdown",
   "metadata": {},
   "source": [
    "What does the dataset contains?"
   ]
  },
  {
   "cell_type": "code",
   "execution_count": 4,
   "metadata": {},
   "outputs": [
    {
     "data": {
      "text/plain": [
       "Index(['ATP', 'AvgL', 'AvgW', 'B365L', 'B365W', 'Best of', 'Comment', 'Court',\n",
       "       'Date', 'EXL', 'EXW', 'L1', 'L2', 'L3', 'L4', 'L5', 'LBL', 'LBW',\n",
       "       'LPts', 'LRank', 'Location', 'Loser', 'Lsets', 'MaxL', 'MaxW', 'PSL',\n",
       "       'PSW', 'Round', 'SJL', 'SJW', 'Series', 'Surface', 'Tournament', 'W1',\n",
       "       'W2', 'W3', 'W4', 'W5', 'WPts', 'WRank', 'Winner', 'Wsets'],\n",
       "      dtype='object')"
      ]
     },
     "execution_count": 4,
     "metadata": {},
     "output_type": "execute_result"
    }
   ],
   "source": [
    "df.columns"
   ]
  },
  {
   "cell_type": "markdown",
   "metadata": {},
   "source": [
    "Out of curiosity, who are the most successful player in recent years?"
   ]
  },
  {
   "cell_type": "code",
   "execution_count": 5,
   "metadata": {},
   "outputs": [
    {
     "data": {
      "text/plain": [
       "Djokovic N.     309\n",
       "Nadal R.        269\n",
       "Murray A.       258\n",
       "Berdych T.      233\n",
       "Federer R.      231\n",
       "Ferrer D.       227\n",
       "Nishikori K.    219\n",
       "Wawrinka S.     213\n",
       "Raonic M.       200\n",
       "Dimitrov G.     191\n",
       "Name: Winner, dtype: int64"
      ]
     },
     "execution_count": 5,
     "metadata": {},
     "output_type": "execute_result"
    }
   ],
   "source": [
    "df['Winner'].value_counts()[:10]"
   ]
  },
  {
   "cell_type": "markdown",
   "metadata": {},
   "source": [
    "## Prediction\n",
    "### Data exploration\n",
    "\n",
    "Let's take a look at the match history for Nadal vs. Djokovic and let's use historical data to build the dataset and try to predict the outcome of a match"
   ]
  },
  {
   "cell_type": "code",
   "execution_count": 6,
   "metadata": {},
   "outputs": [
    {
     "name": "stdout",
     "output_type": "stream",
     "text": [
      "(677, 42)\n"
     ]
    },
    {
     "data": {
      "text/html": [
       "<div>\n",
       "<style>\n",
       "    .dataframe thead tr:only-child th {\n",
       "        text-align: right;\n",
       "    }\n",
       "\n",
       "    .dataframe thead th {\n",
       "        text-align: left;\n",
       "    }\n",
       "\n",
       "    .dataframe tbody tr th {\n",
       "        vertical-align: top;\n",
       "    }\n",
       "</style>\n",
       "<table border=\"1\" class=\"dataframe\">\n",
       "  <thead>\n",
       "    <tr style=\"text-align: right;\">\n",
       "      <th></th>\n",
       "      <th>ATP</th>\n",
       "      <th>AvgL</th>\n",
       "      <th>AvgW</th>\n",
       "      <th>B365L</th>\n",
       "      <th>B365W</th>\n",
       "      <th>Best of</th>\n",
       "      <th>Comment</th>\n",
       "      <th>Court</th>\n",
       "      <th>Date</th>\n",
       "      <th>EXL</th>\n",
       "      <th>...</th>\n",
       "      <th>Tournament</th>\n",
       "      <th>W1</th>\n",
       "      <th>W2</th>\n",
       "      <th>W3</th>\n",
       "      <th>W4</th>\n",
       "      <th>W5</th>\n",
       "      <th>WPts</th>\n",
       "      <th>WRank</th>\n",
       "      <th>Winner</th>\n",
       "      <th>Wsets</th>\n",
       "    </tr>\n",
       "  </thead>\n",
       "  <tbody>\n",
       "    <tr>\n",
       "      <th>11</th>\n",
       "      <td>1</td>\n",
       "      <td>5.34</td>\n",
       "      <td>1.14</td>\n",
       "      <td>5.0</td>\n",
       "      <td>1.16</td>\n",
       "      <td>3</td>\n",
       "      <td>Completed</td>\n",
       "      <td>Outdoor</td>\n",
       "      <td>2017-01-03</td>\n",
       "      <td>4.30</td>\n",
       "      <td>...</td>\n",
       "      <td>Brisbane International</td>\n",
       "      <td>6.0</td>\n",
       "      <td>6.0</td>\n",
       "      <td>NaN</td>\n",
       "      <td>NaN</td>\n",
       "      <td>NaN</td>\n",
       "      <td>3300.0</td>\n",
       "      <td>9.0</td>\n",
       "      <td>Nadal R.</td>\n",
       "      <td>2.0</td>\n",
       "    </tr>\n",
       "    <tr>\n",
       "      <th>19</th>\n",
       "      <td>1</td>\n",
       "      <td>6.16</td>\n",
       "      <td>1.11</td>\n",
       "      <td>6.0</td>\n",
       "      <td>1.12</td>\n",
       "      <td>3</td>\n",
       "      <td>Completed</td>\n",
       "      <td>Outdoor</td>\n",
       "      <td>2017-01-05</td>\n",
       "      <td>5.25</td>\n",
       "      <td>...</td>\n",
       "      <td>Brisbane International</td>\n",
       "      <td>6.0</td>\n",
       "      <td>6.0</td>\n",
       "      <td>NaN</td>\n",
       "      <td>NaN</td>\n",
       "      <td>NaN</td>\n",
       "      <td>3300.0</td>\n",
       "      <td>9.0</td>\n",
       "      <td>Nadal R.</td>\n",
       "      <td>2.0</td>\n",
       "    </tr>\n",
       "    <tr>\n",
       "      <th>57</th>\n",
       "      <td>3</td>\n",
       "      <td>12.47</td>\n",
       "      <td>1.03</td>\n",
       "      <td>15.0</td>\n",
       "      <td>1.03</td>\n",
       "      <td>3</td>\n",
       "      <td>Completed</td>\n",
       "      <td>Outdoor</td>\n",
       "      <td>2017-01-02</td>\n",
       "      <td>7.75</td>\n",
       "      <td>...</td>\n",
       "      <td>Qatar Exxon Mobil Open</td>\n",
       "      <td>7.0</td>\n",
       "      <td>6.0</td>\n",
       "      <td>NaN</td>\n",
       "      <td>NaN</td>\n",
       "      <td>NaN</td>\n",
       "      <td>11780.0</td>\n",
       "      <td>2.0</td>\n",
       "      <td>Djokovic N.</td>\n",
       "      <td>2.0</td>\n",
       "    </tr>\n",
       "    <tr>\n",
       "      <th>74</th>\n",
       "      <td>3</td>\n",
       "      <td>16.32</td>\n",
       "      <td>1.02</td>\n",
       "      <td>19.0</td>\n",
       "      <td>1.02</td>\n",
       "      <td>3</td>\n",
       "      <td>Completed</td>\n",
       "      <td>Outdoor</td>\n",
       "      <td>2017-01-04</td>\n",
       "      <td>10.00</td>\n",
       "      <td>...</td>\n",
       "      <td>Qatar Exxon Mobil Open</td>\n",
       "      <td>6.0</td>\n",
       "      <td>6.0</td>\n",
       "      <td>NaN</td>\n",
       "      <td>NaN</td>\n",
       "      <td>NaN</td>\n",
       "      <td>11780.0</td>\n",
       "      <td>2.0</td>\n",
       "      <td>Djokovic N.</td>\n",
       "      <td>2.0</td>\n",
       "    </tr>\n",
       "    <tr>\n",
       "      <th>79</th>\n",
       "      <td>3</td>\n",
       "      <td>15.26</td>\n",
       "      <td>1.02</td>\n",
       "      <td>17.0</td>\n",
       "      <td>1.02</td>\n",
       "      <td>3</td>\n",
       "      <td>Completed</td>\n",
       "      <td>Outdoor</td>\n",
       "      <td>2017-01-05</td>\n",
       "      <td>8.50</td>\n",
       "      <td>...</td>\n",
       "      <td>Qatar Exxon Mobil Open</td>\n",
       "      <td>6.0</td>\n",
       "      <td>6.0</td>\n",
       "      <td>NaN</td>\n",
       "      <td>NaN</td>\n",
       "      <td>NaN</td>\n",
       "      <td>11780.0</td>\n",
       "      <td>2.0</td>\n",
       "      <td>Djokovic N.</td>\n",
       "      <td>2.0</td>\n",
       "    </tr>\n",
       "  </tbody>\n",
       "</table>\n",
       "<p>5 rows × 42 columns</p>\n",
       "</div>"
      ],
      "text/plain": [
       "    ATP   AvgL  AvgW  B365L  B365W  Best of    Comment    Court       Date  \\\n",
       "11    1   5.34  1.14    5.0   1.16        3  Completed  Outdoor 2017-01-03   \n",
       "19    1   6.16  1.11    6.0   1.12        3  Completed  Outdoor 2017-01-05   \n",
       "57    3  12.47  1.03   15.0   1.03        3  Completed  Outdoor 2017-01-02   \n",
       "74    3  16.32  1.02   19.0   1.02        3  Completed  Outdoor 2017-01-04   \n",
       "79    3  15.26  1.02   17.0   1.02        3  Completed  Outdoor 2017-01-05   \n",
       "\n",
       "      EXL  ...                Tournament   W1   W2  W3  W4  W5     WPts  \\\n",
       "11   4.30  ...    Brisbane International  6.0  6.0 NaN NaN NaN   3300.0   \n",
       "19   5.25  ...    Brisbane International  6.0  6.0 NaN NaN NaN   3300.0   \n",
       "57   7.75  ...    Qatar Exxon Mobil Open  7.0  6.0 NaN NaN NaN  11780.0   \n",
       "74  10.00  ...    Qatar Exxon Mobil Open  6.0  6.0 NaN NaN NaN  11780.0   \n",
       "79   8.50  ...    Qatar Exxon Mobil Open  6.0  6.0 NaN NaN NaN  11780.0   \n",
       "\n",
       "    WRank       Winner  Wsets  \n",
       "11    9.0     Nadal R.    2.0  \n",
       "19    9.0     Nadal R.    2.0  \n",
       "57    2.0  Djokovic N.    2.0  \n",
       "74    2.0  Djokovic N.    2.0  \n",
       "79    2.0  Djokovic N.    2.0  \n",
       "\n",
       "[5 rows x 42 columns]"
      ]
     },
     "execution_count": 6,
     "metadata": {},
     "output_type": "execute_result"
    }
   ],
   "source": [
    "history = pd.concat([\n",
    "    df[(df['Winner'] == 'Djokovic N.') | (df['Winner'] == 'Nadal R.')],\n",
    "    df[(df['Loser'] == 'Djokovic N.') | (df['Loser'] == 'Nadal R.')]\n",
    "])\n",
    "\n",
    "print(history.shape)\n",
    "\n",
    "history.head()"
   ]
  },
  {
   "cell_type": "markdown",
   "metadata": {},
   "source": [
    "There are 677 matches played by either Nadal or Djokovic (or both).\n",
    "\n",
    "Let's take a deeper look at some features, starting from `Surface`"
   ]
  },
  {
   "cell_type": "code",
   "execution_count": 7,
   "metadata": {},
   "outputs": [
    {
     "data": {
      "image/png": "[encoded data removed]",
      "text/plain": [
       "<matplotlib.figure.Figure at 0x1a583ed20f0>"
      ]
     },
     "metadata": {},
     "output_type": "display_data"
    }
   ],
   "source": [
    "surface_xt = pd.crosstab(df['Winner'], df['Surface'])\n",
    "target_surface = surface_xt[(surface_xt.index.values == 'Nadal R.') | (surface_xt.index.values == 'Djokovic N.')]\n",
    "\n",
    "target_surface.plot(kind='bar', stacked=True, figsize=(16, 10));"
   ]
  },
  {
   "cell_type": "markdown",
   "metadata": {},
   "source": [
    "What is the winner/loser ratio for both player?"
   ]
  },
  {
   "cell_type": "code",
   "execution_count": 8,
   "metadata": {},
   "outputs": [
    {
     "data": {
      "text/plain": [
       "269"
      ]
     },
     "execution_count": 8,
     "metadata": {},
     "output_type": "execute_result"
    }
   ],
   "source": [
    "len(df[df['Winner'] == 'Nadal R.'])"
   ]
  },
  {
   "cell_type": "code",
   "execution_count": 9,
   "metadata": {},
   "outputs": [
    {
     "data": {
      "text/plain": [
       "60"
      ]
     },
     "execution_count": 9,
     "metadata": {},
     "output_type": "execute_result"
    }
   ],
   "source": [
    "len(df[df['Loser'] == 'Nadal R.'])"
   ]
  },
  {
   "cell_type": "code",
   "execution_count": 10,
   "metadata": {},
   "outputs": [
    {
     "data": {
      "text/plain": [
       "309"
      ]
     },
     "execution_count": 10,
     "metadata": {},
     "output_type": "execute_result"
    }
   ],
   "source": [
    "len(df[df['Winner'] == 'Djokovic N.'])"
   ]
  },
  {
   "cell_type": "code",
   "execution_count": 11,
   "metadata": {},
   "outputs": [
    {
     "data": {
      "text/plain": [
       "39"
      ]
     },
     "execution_count": 11,
     "metadata": {},
     "output_type": "execute_result"
    }
   ],
   "source": [
    "len(df[df['Loser'] == 'Djokovic N.'])"
   ]
  },
  {
   "cell_type": "markdown",
   "metadata": {},
   "source": [
    "### Feature engineering\n",
    "\n",
    "My first experiment will be to approach the problem as a classification one; either player1 wins or player2 wins; in order to create a balanced dataset, I will split the available data 50:50 and assign to half of it label 0 and to the other half label 1\n",
    "\n",
    "Outcome representation:\n",
    "- 1: player 1 wins\n",
    "- 0: player 2 wins"
   ]
  },
  {
   "cell_type": "code",
   "execution_count": 12,
   "metadata": {},
   "outputs": [
    {
     "name": "stdout",
     "output_type": "stream",
     "text": [
      "(338, 42) (339, 42)\n"
     ]
    }
   ],
   "source": [
    "df_player1 = history.head(len(history)//2)\n",
    "df_player2 = history.tail(len(history) - len(df_player1))\n",
    "\n",
    "print(df_player1.shape, df_player2.shape)"
   ]
  },
  {
   "cell_type": "markdown",
   "metadata": {},
   "source": [
    "The first feature that I am augmenting is derived from the rank of the two players; I will just create a new `RankDiff` attribute, computed as the rank of player1 minus the rank of player 2"
   ]
  },
  {
   "cell_type": "code",
   "execution_count": 13,
   "metadata": {
    "collapsed": true
   },
   "outputs": [],
   "source": [
    "final_1 = pd.DataFrame()\n",
    "\n",
    "final_1['RankDiff'] = df_player1['WRank'] - df_player1['LRank']\n",
    "\n",
    "final_1['y'] = 1"
   ]
  },
  {
   "cell_type": "code",
   "execution_count": 14,
   "metadata": {
    "collapsed": true
   },
   "outputs": [],
   "source": [
    "final_2 = pd.DataFrame()\n",
    "\n",
    "final_2['RankDiff'] = df_player2['LRank'] - df_player2['WRank']\n",
    "\n",
    "final_2['y'] = 0"
   ]
  },
  {
   "cell_type": "code",
   "execution_count": 15,
   "metadata": {},
   "outputs": [
    {
     "data": {
      "text/html": [
       "<div>\n",
       "<style>\n",
       "    .dataframe thead tr:only-child th {\n",
       "        text-align: right;\n",
       "    }\n",
       "\n",
       "    .dataframe thead th {\n",
       "        text-align: left;\n",
       "    }\n",
       "\n",
       "    .dataframe tbody tr th {\n",
       "        vertical-align: top;\n",
       "    }\n",
       "</style>\n",
       "<table border=\"1\" class=\"dataframe\">\n",
       "  <thead>\n",
       "    <tr style=\"text-align: right;\">\n",
       "      <th></th>\n",
       "      <th>RankDiff</th>\n",
       "      <th>y</th>\n",
       "    </tr>\n",
       "  </thead>\n",
       "  <tbody>\n",
       "    <tr>\n",
       "      <th>2016</th>\n",
       "      <td>-15.0</td>\n",
       "      <td>0</td>\n",
       "    </tr>\n",
       "    <tr>\n",
       "      <th>1316</th>\n",
       "      <td>-160.0</td>\n",
       "      <td>1</td>\n",
       "    </tr>\n",
       "    <tr>\n",
       "      <th>533</th>\n",
       "      <td>-24.0</td>\n",
       "      <td>1</td>\n",
       "    </tr>\n",
       "    <tr>\n",
       "      <th>2010</th>\n",
       "      <td>79.0</td>\n",
       "      <td>0</td>\n",
       "    </tr>\n",
       "    <tr>\n",
       "      <th>2191</th>\n",
       "      <td>20.0</td>\n",
       "      <td>0</td>\n",
       "    </tr>\n",
       "  </tbody>\n",
       "</table>\n",
       "</div>"
      ],
      "text/plain": [
       "      RankDiff  y\n",
       "2016     -15.0  0\n",
       "1316    -160.0  1\n",
       "533      -24.0  1\n",
       "2010      79.0  0\n",
       "2191      20.0  0"
      ]
     },
     "execution_count": 15,
     "metadata": {},
     "output_type": "execute_result"
    }
   ],
   "source": [
    "final = pd.concat([\n",
    "    final_1,\n",
    "    final_2\n",
    "])\n",
    "\n",
    "final.sample(5)"
   ]
  },
  {
   "cell_type": "markdown",
   "metadata": {},
   "source": [
    "I want to keep information about the surface, court, location and tournament, but they are in a string format so they are not much use right now.\n",
    "\n",
    "I will use dummies to keep the feature; dummies are basically one-hot encoding the attributes"
   ]
  },
  {
   "cell_type": "code",
   "execution_count": 16,
   "metadata": {
    "collapsed": true
   },
   "outputs": [],
   "source": [
    "final = pd.concat([\n",
    "    final,\n",
    "    pd.get_dummies(history['Surface']),\n",
    "    pd.get_dummies(history['Court']),\n",
    "    pd.get_dummies(history['Location']),\n",
    "    pd.get_dummies(history['Tournament'])\n",
    "], axis=1)"
   ]
  },
  {
   "cell_type": "markdown",
   "metadata": {},
   "source": [
    "Another feature that I want to create is the number of days elapsed for the player since its last match. This might be an useful indicator and its the only way, in such a naive approach, to preserve some kind of temporal information"
   ]
  },
  {
   "cell_type": "code",
   "execution_count": 17,
   "metadata": {},
   "outputs": [
    {
     "data": {
      "text/html": [
       "<div>\n",
       "<style>\n",
       "    .dataframe thead tr:only-child th {\n",
       "        text-align: right;\n",
       "    }\n",
       "\n",
       "    .dataframe thead th {\n",
       "        text-align: left;\n",
       "    }\n",
       "\n",
       "    .dataframe tbody tr th {\n",
       "        vertical-align: top;\n",
       "    }\n",
       "</style>\n",
       "<table border=\"1\" class=\"dataframe\">\n",
       "  <thead>\n",
       "    <tr style=\"text-align: right;\">\n",
       "      <th></th>\n",
       "      <th>RankDiff</th>\n",
       "      <th>y</th>\n",
       "      <th>Clay</th>\n",
       "      <th>Grass</th>\n",
       "      <th>Hard</th>\n",
       "      <th>Indoor</th>\n",
       "      <th>Outdoor</th>\n",
       "      <th>Acapulco</th>\n",
       "      <th>Barcelona</th>\n",
       "      <th>Basel</th>\n",
       "      <th>...</th>\n",
       "      <th>Rogers Masters</th>\n",
       "      <th>Shanghai Masters</th>\n",
       "      <th>Sony Ericsson Open</th>\n",
       "      <th>Swiss Indoors</th>\n",
       "      <th>US Open</th>\n",
       "      <th>VTR Open</th>\n",
       "      <th>Western &amp; Southern Financial Group Masters</th>\n",
       "      <th>Wimbledon</th>\n",
       "      <th>bet-at-home Open</th>\n",
       "      <th>Elapsed</th>\n",
       "    </tr>\n",
       "  </thead>\n",
       "  <tbody>\n",
       "    <tr>\n",
       "      <th>19</th>\n",
       "      <td>-42.0</td>\n",
       "      <td>1</td>\n",
       "      <td>0</td>\n",
       "      <td>0</td>\n",
       "      <td>1</td>\n",
       "      <td>0</td>\n",
       "      <td>1</td>\n",
       "      <td>0</td>\n",
       "      <td>0</td>\n",
       "      <td>0</td>\n",
       "      <td>...</td>\n",
       "      <td>0</td>\n",
       "      <td>0</td>\n",
       "      <td>0</td>\n",
       "      <td>0</td>\n",
       "      <td>0</td>\n",
       "      <td>0</td>\n",
       "      <td>0</td>\n",
       "      <td>0</td>\n",
       "      <td>0</td>\n",
       "      <td>2</td>\n",
       "    </tr>\n",
       "    <tr>\n",
       "      <th>57</th>\n",
       "      <td>-61.0</td>\n",
       "      <td>1</td>\n",
       "      <td>0</td>\n",
       "      <td>0</td>\n",
       "      <td>1</td>\n",
       "      <td>0</td>\n",
       "      <td>1</td>\n",
       "      <td>0</td>\n",
       "      <td>0</td>\n",
       "      <td>0</td>\n",
       "      <td>...</td>\n",
       "      <td>0</td>\n",
       "      <td>0</td>\n",
       "      <td>0</td>\n",
       "      <td>0</td>\n",
       "      <td>0</td>\n",
       "      <td>0</td>\n",
       "      <td>0</td>\n",
       "      <td>0</td>\n",
       "      <td>0</td>\n",
       "      <td>3</td>\n",
       "    </tr>\n",
       "    <tr>\n",
       "      <th>74</th>\n",
       "      <td>-69.0</td>\n",
       "      <td>1</td>\n",
       "      <td>0</td>\n",
       "      <td>0</td>\n",
       "      <td>1</td>\n",
       "      <td>0</td>\n",
       "      <td>1</td>\n",
       "      <td>0</td>\n",
       "      <td>0</td>\n",
       "      <td>0</td>\n",
       "      <td>...</td>\n",
       "      <td>0</td>\n",
       "      <td>0</td>\n",
       "      <td>0</td>\n",
       "      <td>0</td>\n",
       "      <td>0</td>\n",
       "      <td>0</td>\n",
       "      <td>0</td>\n",
       "      <td>0</td>\n",
       "      <td>0</td>\n",
       "      <td>2</td>\n",
       "    </tr>\n",
       "    <tr>\n",
       "      <th>79</th>\n",
       "      <td>-105.0</td>\n",
       "      <td>1</td>\n",
       "      <td>0</td>\n",
       "      <td>0</td>\n",
       "      <td>1</td>\n",
       "      <td>0</td>\n",
       "      <td>1</td>\n",
       "      <td>0</td>\n",
       "      <td>0</td>\n",
       "      <td>0</td>\n",
       "      <td>...</td>\n",
       "      <td>0</td>\n",
       "      <td>0</td>\n",
       "      <td>0</td>\n",
       "      <td>0</td>\n",
       "      <td>0</td>\n",
       "      <td>0</td>\n",
       "      <td>0</td>\n",
       "      <td>0</td>\n",
       "      <td>0</td>\n",
       "      <td>1</td>\n",
       "    </tr>\n",
       "    <tr>\n",
       "      <th>82</th>\n",
       "      <td>-40.0</td>\n",
       "      <td>1</td>\n",
       "      <td>0</td>\n",
       "      <td>0</td>\n",
       "      <td>1</td>\n",
       "      <td>0</td>\n",
       "      <td>1</td>\n",
       "      <td>0</td>\n",
       "      <td>0</td>\n",
       "      <td>0</td>\n",
       "      <td>...</td>\n",
       "      <td>0</td>\n",
       "      <td>0</td>\n",
       "      <td>0</td>\n",
       "      <td>0</td>\n",
       "      <td>0</td>\n",
       "      <td>0</td>\n",
       "      <td>0</td>\n",
       "      <td>0</td>\n",
       "      <td>0</td>\n",
       "      <td>1</td>\n",
       "    </tr>\n",
       "  </tbody>\n",
       "</table>\n",
       "<p>5 rows × 67 columns</p>\n",
       "</div>"
      ],
      "text/plain": [
       "    RankDiff  y  Clay  Grass  Hard  Indoor  Outdoor  Acapulco  Barcelona  \\\n",
       "19     -42.0  1     0      0     1       0        1         0          0   \n",
       "57     -61.0  1     0      0     1       0        1         0          0   \n",
       "74     -69.0  1     0      0     1       0        1         0          0   \n",
       "79    -105.0  1     0      0     1       0        1         0          0   \n",
       "82     -40.0  1     0      0     1       0        1         0          0   \n",
       "\n",
       "    Basel   ...     Rogers Masters  Shanghai Masters  Sony Ericsson Open  \\\n",
       "19      0   ...                  0                 0                   0   \n",
       "57      0   ...                  0                 0                   0   \n",
       "74      0   ...                  0                 0                   0   \n",
       "79      0   ...                  0                 0                   0   \n",
       "82      0   ...                  0                 0                   0   \n",
       "\n",
       "    Swiss Indoors  US Open  VTR Open   \\\n",
       "19              0        0          0   \n",
       "57              0        0          0   \n",
       "74              0        0          0   \n",
       "79              0        0          0   \n",
       "82              0        0          0   \n",
       "\n",
       "    Western & Southern Financial Group Masters  Wimbledon  bet-at-home Open  \\\n",
       "19                                           0          0                 0   \n",
       "57                                           0          0                 0   \n",
       "74                                           0          0                 0   \n",
       "79                                           0          0                 0   \n",
       "82                                           0          0                 0   \n",
       "\n",
       "    Elapsed  \n",
       "19        2  \n",
       "57        3  \n",
       "74        2  \n",
       "79        1  \n",
       "82        1  \n",
       "\n",
       "[5 rows x 67 columns]"
      ]
     },
     "execution_count": 17,
     "metadata": {},
     "output_type": "execute_result"
    }
   ],
   "source": [
    "elapsed = pd.concat([\n",
    "    df_player1['Date'] - df_player1['Date'].shift(1),\n",
    "    df_player2['Date'] - df_player2['Date'].shift(1)\n",
    "])\n",
    "\n",
    "final = pd.concat([\n",
    "    final,\n",
    "    elapsed\n",
    "], axis=1)\n",
    "\n",
    "final = final[~final['Date'].isnull()]\n",
    "final['Elapsed'] = final['Date'].apply(lambda x: np.absolute(x.days))\n",
    "final.drop('Date', axis=1, inplace=True)\n",
    "\n",
    "final.head()"
   ]
  },
  {
   "cell_type": "code",
   "execution_count": 18,
   "metadata": {},
   "outputs": [
    {
     "data": {
      "text/plain": [
       "(675, 67)"
      ]
     },
     "execution_count": 18,
     "metadata": {},
     "output_type": "execute_result"
    }
   ],
   "source": [
    "final.shape"
   ]
  },
  {
   "cell_type": "markdown",
   "metadata": {},
   "source": [
    "### Model Evaluation\n",
    "\n",
    "We are left with 66 features and 675 samples; reasonable enough for a Machine Learning based approach.\n",
    "\n",
    "Next step is preparing the data for the classfiers"
   ]
  },
  {
   "cell_type": "code",
   "execution_count": 19,
   "metadata": {},
   "outputs": [
    {
     "data": {
      "text/plain": [
       "(675, 66)"
      ]
     },
     "execution_count": 19,
     "metadata": {},
     "output_type": "execute_result"
    }
   ],
   "source": [
    "y = final['y']\n",
    "\n",
    "X = final.drop(['y'], axis=1)\n",
    "\n",
    "X.shape"
   ]
  },
  {
   "cell_type": "markdown",
   "metadata": {},
   "source": [
    "I am testing several ML models; I will store them in a dictionary for convenience"
   ]
  },
  {
   "cell_type": "code",
   "execution_count": 20,
   "metadata": {
    "collapsed": true
   },
   "outputs": [],
   "source": [
    "models = {\n",
    "    'Support Vector Machine': svm.SVC(),\n",
    "    'MLP(64, 64)': MLPClassifier(solver='lbfgs',\n",
    "        alpha=1e-5,\n",
    "        hidden_layer_sizes=(64, 64),\n",
    "        random_state = 1),\n",
    "    'MLP(64, 128)': MLPClassifier(solver='lbfgs',\n",
    "        alpha=1e-5,\n",
    "        hidden_layer_sizes=(64, 128),\n",
    "        random_state = 1),\n",
    "    'MLP(128, 128)': MLPClassifier(solver='lbfgs',\n",
    "        alpha=1e-5,\n",
    "        hidden_layer_sizes=(128, 128),\n",
    "        random_state = 1),\n",
    "    'MLP(128, 256)': MLPClassifier(solver='lbfgs',\n",
    "        alpha=1e-5,\n",
    "        hidden_layer_sizes=(128, 256),\n",
    "        random_state = 1),\n",
    "    'Decision Tree': tree.DecisionTreeClassifier(),\n",
    "    'Random Forest': RandomForestClassifier()\n",
    "}"
   ]
  },
  {
   "cell_type": "markdown",
   "metadata": {},
   "source": [
    "Splitting training and testing sets (1/3 of the dataset will be testing).\n",
    "\n",
    "Fixing the `random_state` to guarantee reproducibility, if the performance is not completely awful I will cross-fold anyway"
   ]
  },
  {
   "cell_type": "code",
   "execution_count": 21,
   "metadata": {},
   "outputs": [
    {
     "data": {
      "text/plain": [
       "(452, 66)"
      ]
     },
     "execution_count": 21,
     "metadata": {},
     "output_type": "execute_result"
    }
   ],
   "source": [
    "X_train, X_test, y_train, y_test = train_test_split(\n",
    "        X, y, test_size=0.33, random_state=42)\n",
    "\n",
    "X_train.shape"
   ]
  },
  {
   "cell_type": "markdown",
   "metadata": {},
   "source": [
    "First run of tests, I will take a look at precition, recall and f1-score; the closer to 1 the better"
   ]
  },
  {
   "cell_type": "code",
   "execution_count": 22,
   "metadata": {},
   "outputs": [
    {
     "name": "stdout",
     "output_type": "stream",
     "text": [
      "Support Vector Machine\n",
      "             precision    recall  f1-score   support\n",
      "\n",
      "          0       0.83      0.82      0.83        97\n",
      "          1       0.87      0.87      0.87       126\n",
      "\n",
      "avg / total       0.85      0.85      0.85       223\n",
      "\n",
      "\n",
      "MLP(64, 64)\n",
      "             precision    recall  f1-score   support\n",
      "\n",
      "          0       0.85      0.81      0.83        97\n",
      "          1       0.86      0.89      0.88       126\n",
      "\n",
      "avg / total       0.86      0.86      0.86       223\n",
      "\n",
      "\n",
      "MLP(64, 128)\n",
      "             precision    recall  f1-score   support\n",
      "\n",
      "          0       0.86      0.80      0.83        97\n",
      "          1       0.86      0.90      0.88       126\n",
      "\n",
      "avg / total       0.86      0.86      0.86       223\n",
      "\n",
      "\n",
      "MLP(128, 128)\n",
      "             precision    recall  f1-score   support\n",
      "\n",
      "          0       0.90      0.78      0.84        97\n",
      "          1       0.85      0.94      0.89       126\n",
      "\n",
      "avg / total       0.87      0.87      0.87       223\n",
      "\n",
      "\n",
      "MLP(128, 256)\n",
      "             precision    recall  f1-score   support\n",
      "\n",
      "          0       0.84      0.81      0.83        97\n",
      "          1       0.86      0.88      0.87       126\n",
      "\n",
      "avg / total       0.85      0.85      0.85       223\n",
      "\n",
      "\n",
      "Decision Tree\n",
      "             precision    recall  f1-score   support\n",
      "\n",
      "          0       0.82      0.79      0.81        97\n",
      "          1       0.84      0.87      0.85       126\n",
      "\n",
      "avg / total       0.83      0.83      0.83       223\n",
      "\n",
      "\n",
      "Random Forest\n",
      "             precision    recall  f1-score   support\n",
      "\n",
      "          0       0.77      0.81      0.79        97\n",
      "          1       0.85      0.82      0.83       126\n",
      "\n",
      "avg / total       0.82      0.82      0.82       223\n",
      "\n",
      "\n"
     ]
    }
   ],
   "source": [
    "for name, model in models.items():\n",
    "        model.fit(X_train, y_train)\n",
    "        y_pred = model.predict(X_test)\n",
    "        report = classification_report(y_test, y_pred)\n",
    "        print(name)\n",
    "        print(report, end='\\n\\n')"
   ]
  },
  {
   "cell_type": "markdown",
   "metadata": {},
   "source": [
    "The results are decent, but I don't really think this approach is gonna take us far anyway; still, let's crossfold to get a statistically sound evaluation of the models' performances"
   ]
  },
  {
   "cell_type": "code",
   "execution_count": 23,
   "metadata": {},
   "outputs": [
    {
     "name": "stdout",
     "output_type": "stream",
     "text": [
      "Support Vector Machine\n",
      "             precision    recall  f1-score   support\n",
      "\n",
      "          0       0.80      0.80      0.80        97\n",
      "          1       0.85      0.85      0.85       126\n",
      "\n",
      "avg / total       0.83      0.83      0.83       223\n",
      "\n",
      "\n",
      "MLP(64, 64)\n",
      "             precision    recall  f1-score   support\n",
      "\n",
      "          0       0.82      0.74      0.78        97\n",
      "          1       0.81      0.87      0.84       126\n",
      "\n",
      "avg / total       0.82      0.82      0.81       223\n",
      "\n",
      "\n",
      "MLP(64, 128)\n",
      "             precision    recall  f1-score   support\n",
      "\n",
      "          0       0.80      0.76      0.78        97\n",
      "          1       0.82      0.86      0.84       126\n",
      "\n",
      "avg / total       0.82      0.82      0.82       223\n",
      "\n",
      "\n",
      "MLP(128, 128)\n",
      "             precision    recall  f1-score   support\n",
      "\n",
      "          0       0.86      0.75      0.80        97\n",
      "          1       0.83      0.90      0.86       126\n",
      "\n",
      "avg / total       0.84      0.84      0.84       223\n",
      "\n",
      "\n",
      "MLP(128, 256)\n",
      "             precision    recall  f1-score   support\n",
      "\n",
      "          0       0.81      0.76      0.79        97\n",
      "          1       0.83      0.87      0.84       126\n",
      "\n",
      "avg / total       0.82      0.82      0.82       223\n",
      "\n",
      "\n",
      "Decision Tree\n",
      "             precision    recall  f1-score   support\n",
      "\n",
      "          0       0.81      0.77      0.79        97\n",
      "          1       0.83      0.86      0.84       126\n",
      "\n",
      "avg / total       0.82      0.82      0.82       223\n",
      "\n",
      "\n",
      "Random Forest\n",
      "             precision    recall  f1-score   support\n",
      "\n",
      "          0       0.80      0.76      0.78        97\n",
      "          1       0.82      0.85      0.84       126\n",
      "\n",
      "avg / total       0.81      0.81      0.81       223\n",
      "\n",
      "\n"
     ]
    }
   ],
   "source": [
    "for name, model in models.items():\n",
    "        y_pred = cross_val_predict(model, X_test, y_test)\n",
    "        report = classification_report(y_test, y_pred)\n",
    "        print(name)\n",
    "        print(report, end='\\n\\n')"
   ]
  },
  {
   "cell_type": "markdown",
   "metadata": {},
   "source": [
    "The best configuration seems to be a Multi Layer Perceptron with two hidden layers, both of size 128.\n",
    "\n",
    "Reported results (with 10-fold cross validation):\n",
    "- Precision: 0.84\n",
    "- Recall: 0.84\n",
    "- F1-score: 0.84\n",
    "\n",
    "trained with data extracted from 675 past matches.\n",
    "\n",
    "Is this better than bookmakers?"
   ]
  },
  {
   "cell_type": "code",
   "execution_count": 24,
   "metadata": {},
   "outputs": [
    {
     "name": "stdout",
     "output_type": "stream",
     "text": [
      "Bookmakers performance\n",
      "Mistakes rate: 0.129985\n",
      "Correct rate: 0.870015\n",
      "\n"
     ]
    }
   ],
   "source": [
    "AvgW = history['AvgW']\n",
    "AvgL = history['AvgL']\n",
    "\n",
    "books = zip(AvgW, AvgL)\n",
    "\n",
    "correct = 0\n",
    "mistaken = 0\n",
    "\n",
    "for win, lose in books:\n",
    "    if win > lose:\n",
    "        mistaken += 1\n",
    "    else:\n",
    "        correct += 1\n",
    "\n",
    "print('Bookmakers performance')\n",
    "print('Mistakes rate: %f\\nCorrect rate: %f\\n' % (mistaken/(mistaken+correct), correct/(mistaken+correct)))"
   ]
  },
  {
   "cell_type": "code",
   "execution_count": 25,
   "metadata": {},
   "outputs": [
    {
     "name": "stdout",
     "output_type": "stream",
     "text": [
      "Machine Learning performance\n",
      "Mistakes rate: 0.130045\n",
      "Correct rate: 0.869955\n",
      "\n"
     ]
    }
   ],
   "source": [
    "model = models['MLP(128, 128)']\n",
    "\n",
    "y_pred = model.predict(X_test)\n",
    "\n",
    "matrix = confusion_matrix(y_test, y_pred)\n",
    "\n",
    "mistaken = matrix[0][1] + matrix[1][0]\n",
    "correct = matrix[0][0] + matrix[1][1]\n",
    "\n",
    "print('Machine Learning performance')\n",
    "print('Mistakes rate: %f\\nCorrect rate: %f\\n' % (mistaken/(mistaken+correct), correct/(mistaken+correct)))"
   ]
  },
  {
   "cell_type": "markdown",
   "metadata": {},
   "source": [
    "Precision is very similar; bookmakers predict the correct winner with a .87 rate versus a .869 for ML\n",
    "\n",
    "## Conclusions\n",
    "\n",
    "I don't think this approach is going to perform well on every match; in this particular instance the two players both had a lot of matches, which is not always true; also, since they are both top players, it's easier for the classifier to predict a lot of matches played against less popular/talented players.\n",
    "\n",
    "Nonetheless, I think this small Proof of Concept can support furhter investigations into ML approaches; another interesting future work is to look at the probability for the prediction rather than the prediction itself; this can certainly help to shape a more concrete application if ML will be used to support bookmakers"
   ]
  },
  {
   "cell_type": "code",
   "execution_count": null,
   "metadata": {
    "collapsed": true
   },
   "outputs": [],
   "source": []
  }
 ],
 "metadata": {
  "kernelspec": {
   "display_name": "Python 3",
   "language": "python",
   "name": "python3"
  },
  "language_info": {
   "codemirror_mode": {
    "name": "ipython",
    "version": 3
   },
   "file_extension": ".py",
   "mimetype": "text/x-python",
   "name": "python",
   "nbconvert_exporter": "python",
   "pygments_lexer": "ipython3",
   "version": "3.6.1"
  }
 },
 "nbformat": 4,
 "nbformat_minor": 2
}
