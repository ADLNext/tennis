{
 "cells": [
  {
   "cell_type": "markdown",
   "metadata": {},
   "source": [
    "# Modeling a tennis game as a Stochastic simulation\n",
    "\n",
    "This notebook explores the possibility of modeling a tennis game as a stochastic simulation.\n",
    "\n",
    "I will use the [point-to-point dataset](https://github.com/ADLNext/tennis/tree/master/data/pointbypoint) explored [here](https://github.com/ADLNext/tennis/blob/master/tennis_p2p.ipynb) to estimate probability distributions.\n",
    "\n",
    "For this proof of concept I am ignoring information about surface/tournament/round.\n",
    "\n",
    "## Step 1: gathering data about a certain player\n",
    "\n",
    "I will try to model Nadal and Djokovic and then simulate a match between them. First thing first, I need to collect data about them."
   ]
  },
  {
   "cell_type": "code",
   "execution_count": 1,
   "metadata": {
    "collapsed": true
   },
   "outputs": [],
   "source": [
    "import pandas as pd"
   ]
  },
  {
   "cell_type": "code",
   "execution_count": 2,
   "metadata": {},
   "outputs": [
    {
     "data": {
      "text/html": [
       "<div>\n",
       "<style>\n",
       "    .dataframe thead tr:only-child th {\n",
       "        text-align: right;\n",
       "    }\n",
       "\n",
       "    .dataframe thead th {\n",
       "        text-align: left;\n",
       "    }\n",
       "\n",
       "    .dataframe tbody tr th {\n",
       "        vertical-align: top;\n",
       "    }\n",
       "</style>\n",
       "<table border=\"1\" class=\"dataframe\">\n",
       "  <thead>\n",
       "    <tr style=\"text-align: right;\">\n",
       "      <th></th>\n",
       "      <th>ElapsedTime</th>\n",
       "      <th>GameNo</th>\n",
       "      <th>GameWinner</th>\n",
       "      <th>History</th>\n",
       "      <th>P1Ace</th>\n",
       "      <th>P1BreakPoint</th>\n",
       "      <th>P1BreakPointMissed</th>\n",
       "      <th>P1BreakPointWon</th>\n",
       "      <th>P1DistanceRun</th>\n",
       "      <th>P1DoubleFault</th>\n",
       "      <th>...</th>\n",
       "      <th>ServingTo</th>\n",
       "      <th>SetNo</th>\n",
       "      <th>SetWinner</th>\n",
       "      <th>Speed_KMH</th>\n",
       "      <th>Speed_MPH</th>\n",
       "      <th>WinnerShotType</th>\n",
       "      <th>WinnerType</th>\n",
       "      <th>Winner_BH</th>\n",
       "      <th>Winner_FH</th>\n",
       "      <th>match_id</th>\n",
       "    </tr>\n",
       "  </thead>\n",
       "  <tbody>\n",
       "    <tr>\n",
       "      <th>0</th>\n",
       "      <td>0:00:00</td>\n",
       "      <td>1.0</td>\n",
       "      <td>0</td>\n",
       "      <td>NaN</td>\n",
       "      <td>0</td>\n",
       "      <td>0</td>\n",
       "      <td>0</td>\n",
       "      <td>0</td>\n",
       "      <td>0.000</td>\n",
       "      <td>0</td>\n",
       "      <td>...</td>\n",
       "      <td>NaN</td>\n",
       "      <td>1.0</td>\n",
       "      <td>0</td>\n",
       "      <td>0.0</td>\n",
       "      <td>0.0</td>\n",
       "      <td>0</td>\n",
       "      <td>0</td>\n",
       "      <td>NaN</td>\n",
       "      <td>NaN</td>\n",
       "      <td>2017-ausopen-1101</td>\n",
       "    </tr>\n",
       "    <tr>\n",
       "      <th>1</th>\n",
       "      <td>0:00:00</td>\n",
       "      <td>1.0</td>\n",
       "      <td>0</td>\n",
       "      <td>15000.0</td>\n",
       "      <td>0</td>\n",
       "      <td>0</td>\n",
       "      <td>0</td>\n",
       "      <td>0</td>\n",
       "      <td>1.012</td>\n",
       "      <td>1</td>\n",
       "      <td>...</td>\n",
       "      <td>NaN</td>\n",
       "      <td>1.0</td>\n",
       "      <td>0</td>\n",
       "      <td>0.0</td>\n",
       "      <td>0.0</td>\n",
       "      <td>0</td>\n",
       "      <td>0</td>\n",
       "      <td>NaN</td>\n",
       "      <td>NaN</td>\n",
       "      <td>2017-ausopen-1101</td>\n",
       "    </tr>\n",
       "    <tr>\n",
       "      <th>2</th>\n",
       "      <td>0:00:39</td>\n",
       "      <td>1.0</td>\n",
       "      <td>0</td>\n",
       "      <td>21030.0</td>\n",
       "      <td>0</td>\n",
       "      <td>0</td>\n",
       "      <td>0</td>\n",
       "      <td>0</td>\n",
       "      <td>1.191</td>\n",
       "      <td>0</td>\n",
       "      <td>...</td>\n",
       "      <td>NaN</td>\n",
       "      <td>1.0</td>\n",
       "      <td>0</td>\n",
       "      <td>178.0</td>\n",
       "      <td>110.0</td>\n",
       "      <td>0</td>\n",
       "      <td>0</td>\n",
       "      <td>NaN</td>\n",
       "      <td>NaN</td>\n",
       "      <td>2017-ausopen-1101</td>\n",
       "    </tr>\n",
       "    <tr>\n",
       "      <th>3</th>\n",
       "      <td>0:01:01</td>\n",
       "      <td>1.0</td>\n",
       "      <td>0</td>\n",
       "      <td>21020.0</td>\n",
       "      <td>0</td>\n",
       "      <td>0</td>\n",
       "      <td>0</td>\n",
       "      <td>0</td>\n",
       "      <td>10.147</td>\n",
       "      <td>0</td>\n",
       "      <td>...</td>\n",
       "      <td>NaN</td>\n",
       "      <td>1.0</td>\n",
       "      <td>0</td>\n",
       "      <td>170.0</td>\n",
       "      <td>105.0</td>\n",
       "      <td>0</td>\n",
       "      <td>0</td>\n",
       "      <td>NaN</td>\n",
       "      <td>NaN</td>\n",
       "      <td>2017-ausopen-1101</td>\n",
       "    </tr>\n",
       "    <tr>\n",
       "      <th>4</th>\n",
       "      <td>0:01:29</td>\n",
       "      <td>1.0</td>\n",
       "      <td>0</td>\n",
       "      <td>15000.0</td>\n",
       "      <td>0</td>\n",
       "      <td>0</td>\n",
       "      <td>0</td>\n",
       "      <td>0</td>\n",
       "      <td>1.406</td>\n",
       "      <td>1</td>\n",
       "      <td>...</td>\n",
       "      <td>NaN</td>\n",
       "      <td>1.0</td>\n",
       "      <td>0</td>\n",
       "      <td>0.0</td>\n",
       "      <td>0.0</td>\n",
       "      <td>0</td>\n",
       "      <td>0</td>\n",
       "      <td>NaN</td>\n",
       "      <td>NaN</td>\n",
       "      <td>2017-ausopen-1101</td>\n",
       "    </tr>\n",
       "  </tbody>\n",
       "</table>\n",
       "<p>5 rows × 65 columns</p>\n",
       "</div>"
      ],
      "text/plain": [
       "  ElapsedTime  GameNo  GameWinner  History  P1Ace  P1BreakPoint  \\\n",
       "0     0:00:00     1.0           0      NaN      0             0   \n",
       "1     0:00:00     1.0           0  15000.0      0             0   \n",
       "2     0:00:39     1.0           0  21030.0      0             0   \n",
       "3     0:01:01     1.0           0  21020.0      0             0   \n",
       "4     0:01:29     1.0           0  15000.0      0             0   \n",
       "\n",
       "   P1BreakPointMissed  P1BreakPointWon  P1DistanceRun  P1DoubleFault  \\\n",
       "0                   0                0          0.000              0   \n",
       "1                   0                0          1.012              1   \n",
       "2                   0                0          1.191              0   \n",
       "3                   0                0         10.147              0   \n",
       "4                   0                0          1.406              1   \n",
       "\n",
       "         ...          ServingTo  SetNo  SetWinner  Speed_KMH  Speed_MPH  \\\n",
       "0        ...                NaN    1.0          0        0.0        0.0   \n",
       "1        ...                NaN    1.0          0        0.0        0.0   \n",
       "2        ...                NaN    1.0          0      178.0      110.0   \n",
       "3        ...                NaN    1.0          0      170.0      105.0   \n",
       "4        ...                NaN    1.0          0        0.0        0.0   \n",
       "\n",
       "   WinnerShotType  WinnerType  Winner_BH Winner_FH           match_id  \n",
       "0               0           0        NaN       NaN  2017-ausopen-1101  \n",
       "1               0           0        NaN       NaN  2017-ausopen-1101  \n",
       "2               0           0        NaN       NaN  2017-ausopen-1101  \n",
       "3               0           0        NaN       NaN  2017-ausopen-1101  \n",
       "4               0           0        NaN       NaN  2017-ausopen-1101  \n",
       "\n",
       "[5 rows x 65 columns]"
      ]
     },
     "execution_count": 2,
     "metadata": {},
     "output_type": "execute_result"
    }
   ],
   "source": [
    "data_dir = 'data/pointbypoint/'\n",
    "tournaments = [\n",
    "    '2017-ausopen',\n",
    "    '2016-wimbledon',\n",
    "    '2016-usopen',\n",
    "    '2016-frenchopen',\n",
    "    '2016-ausopen',\n",
    "    '2015-wimbledon',\n",
    "    '2015-usopen',\n",
    "    '2015-frenchopen',\n",
    "    '2015-ausopen',\n",
    "    '2014-wimbledon',\n",
    "    '2014-usopen',\n",
    "    '2014-frenchopen',\n",
    "    '2014-ausopen'\n",
    "]\n",
    "\n",
    "df_points = pd.concat([\n",
    "    pd.read_csv(data_dir + tournament + '-points.csv') for tournament in tournaments\n",
    "], axis = 0)\n",
    "\n",
    "df_points.head()"
   ]
  },
  {
   "cell_type": "code",
   "execution_count": 3,
   "metadata": {},
   "outputs": [
    {
     "data": {
      "text/html": [
       "<div>\n",
       "<style>\n",
       "    .dataframe thead tr:only-child th {\n",
       "        text-align: right;\n",
       "    }\n",
       "\n",
       "    .dataframe thead th {\n",
       "        text-align: left;\n",
       "    }\n",
       "\n",
       "    .dataframe tbody tr th {\n",
       "        vertical-align: top;\n",
       "    }\n",
       "</style>\n",
       "<table border=\"1\" class=\"dataframe\">\n",
       "  <thead>\n",
       "    <tr style=\"text-align: right;\">\n",
       "      <th></th>\n",
       "      <th>match_id</th>\n",
       "      <th>year</th>\n",
       "      <th>slam</th>\n",
       "      <th>match_num</th>\n",
       "      <th>player1</th>\n",
       "      <th>player2</th>\n",
       "      <th>status</th>\n",
       "      <th>winner</th>\n",
       "      <th>event_name</th>\n",
       "      <th>round</th>\n",
       "      <th>court_name</th>\n",
       "      <th>court_id</th>\n",
       "      <th>player1id</th>\n",
       "      <th>player2id</th>\n",
       "      <th>nation1</th>\n",
       "      <th>nation2</th>\n",
       "    </tr>\n",
       "  </thead>\n",
       "  <tbody>\n",
       "    <tr>\n",
       "      <th>0</th>\n",
       "      <td>2017-ausopen-1101</td>\n",
       "      <td>2017</td>\n",
       "      <td>ausopen</td>\n",
       "      <td>1101</td>\n",
       "      <td>Andy Murray</td>\n",
       "      <td>Illya Marchenko</td>\n",
       "      <td>NaN</td>\n",
       "      <td>NaN</td>\n",
       "      <td>NaN</td>\n",
       "      <td>NaN</td>\n",
       "      <td>NaN</td>\n",
       "      <td>NaN</td>\n",
       "      <td>NaN</td>\n",
       "      <td>NaN</td>\n",
       "      <td>NaN</td>\n",
       "      <td>NaN</td>\n",
       "    </tr>\n",
       "    <tr>\n",
       "      <th>1</th>\n",
       "      <td>2017-ausopen-1102</td>\n",
       "      <td>2017</td>\n",
       "      <td>ausopen</td>\n",
       "      <td>1102</td>\n",
       "      <td>Andrey Rublev</td>\n",
       "      <td>Yen Hsun Lu</td>\n",
       "      <td>NaN</td>\n",
       "      <td>NaN</td>\n",
       "      <td>NaN</td>\n",
       "      <td>NaN</td>\n",
       "      <td>NaN</td>\n",
       "      <td>NaN</td>\n",
       "      <td>NaN</td>\n",
       "      <td>NaN</td>\n",
       "      <td>NaN</td>\n",
       "      <td>NaN</td>\n",
       "    </tr>\n",
       "    <tr>\n",
       "      <th>2</th>\n",
       "      <td>2017-ausopen-1103</td>\n",
       "      <td>2017</td>\n",
       "      <td>ausopen</td>\n",
       "      <td>1103</td>\n",
       "      <td>Alex De Minaur</td>\n",
       "      <td>Gerald Melzer</td>\n",
       "      <td>NaN</td>\n",
       "      <td>NaN</td>\n",
       "      <td>NaN</td>\n",
       "      <td>NaN</td>\n",
       "      <td>NaN</td>\n",
       "      <td>NaN</td>\n",
       "      <td>NaN</td>\n",
       "      <td>NaN</td>\n",
       "      <td>NaN</td>\n",
       "      <td>NaN</td>\n",
       "    </tr>\n",
       "    <tr>\n",
       "      <th>3</th>\n",
       "      <td>2017-ausopen-1104</td>\n",
       "      <td>2017</td>\n",
       "      <td>ausopen</td>\n",
       "      <td>1104</td>\n",
       "      <td>Quentin Halys</td>\n",
       "      <td>Sam Querrey</td>\n",
       "      <td>NaN</td>\n",
       "      <td>NaN</td>\n",
       "      <td>NaN</td>\n",
       "      <td>NaN</td>\n",
       "      <td>NaN</td>\n",
       "      <td>NaN</td>\n",
       "      <td>NaN</td>\n",
       "      <td>NaN</td>\n",
       "      <td>NaN</td>\n",
       "      <td>NaN</td>\n",
       "    </tr>\n",
       "    <tr>\n",
       "      <th>4</th>\n",
       "      <td>2017-ausopen-1105</td>\n",
       "      <td>2017</td>\n",
       "      <td>ausopen</td>\n",
       "      <td>1105</td>\n",
       "      <td>John Isner</td>\n",
       "      <td>Konstantin Kravchuk</td>\n",
       "      <td>NaN</td>\n",
       "      <td>NaN</td>\n",
       "      <td>NaN</td>\n",
       "      <td>NaN</td>\n",
       "      <td>NaN</td>\n",
       "      <td>NaN</td>\n",
       "      <td>NaN</td>\n",
       "      <td>NaN</td>\n",
       "      <td>NaN</td>\n",
       "      <td>NaN</td>\n",
       "    </tr>\n",
       "  </tbody>\n",
       "</table>\n",
       "</div>"
      ],
      "text/plain": [
       "            match_id  year     slam  match_num         player1  \\\n",
       "0  2017-ausopen-1101  2017  ausopen       1101     Andy Murray   \n",
       "1  2017-ausopen-1102  2017  ausopen       1102   Andrey Rublev   \n",
       "2  2017-ausopen-1103  2017  ausopen       1103  Alex De Minaur   \n",
       "3  2017-ausopen-1104  2017  ausopen       1104   Quentin Halys   \n",
       "4  2017-ausopen-1105  2017  ausopen       1105      John Isner   \n",
       "\n",
       "               player2  status  winner  event_name  round  court_name  \\\n",
       "0      Illya Marchenko     NaN     NaN         NaN    NaN         NaN   \n",
       "1          Yen Hsun Lu     NaN     NaN         NaN    NaN         NaN   \n",
       "2        Gerald Melzer     NaN     NaN         NaN    NaN         NaN   \n",
       "3          Sam Querrey     NaN     NaN         NaN    NaN         NaN   \n",
       "4  Konstantin Kravchuk     NaN     NaN         NaN    NaN         NaN   \n",
       "\n",
       "   court_id  player1id  player2id  nation1  nation2  \n",
       "0       NaN        NaN        NaN      NaN      NaN  \n",
       "1       NaN        NaN        NaN      NaN      NaN  \n",
       "2       NaN        NaN        NaN      NaN      NaN  \n",
       "3       NaN        NaN        NaN      NaN      NaN  \n",
       "4       NaN        NaN        NaN      NaN      NaN  "
      ]
     },
     "execution_count": 3,
     "metadata": {},
     "output_type": "execute_result"
    }
   ],
   "source": [
    "df_matches = pd.concat([\n",
    "    pd.read_csv(data_dir + tournament + '-matches.csv') for tournament in tournaments\n",
    "], axis = 0)\n",
    "\n",
    "df_matches.head()"
   ]
  },
  {
   "cell_type": "markdown",
   "metadata": {},
   "source": [
    "Now let's fetch all the matches that have information about our target players"
   ]
  },
  {
   "cell_type": "code",
   "execution_count": 4,
   "metadata": {},
   "outputs": [
    {
     "data": {
      "text/plain": [
       "(125, 16)"
      ]
     },
     "execution_count": 4,
     "metadata": {},
     "output_type": "execute_result"
    }
   ],
   "source": [
    "df_target = pd.concat([\n",
    "    df_matches[(df_matches['player1'] == 'Novak Djokovic') | (df_matches['player1'] == 'Rafael Nadal')],\n",
    "    df_matches[(df_matches['player2'] == 'Novak Djokovic') | (df_matches['player2'] == 'Rafael Nadal')]\n",
    "])\n",
    "\n",
    "df_target.shape"
   ]
  },
  {
   "cell_type": "markdown",
   "metadata": {},
   "source": [
    "All we need is the `match_id` to fetch the information from the points dataset"
   ]
  },
  {
   "cell_type": "code",
   "execution_count": 5,
   "metadata": {},
   "outputs": [
    {
     "data": {
      "text/plain": [
       "(25322, 65)"
      ]
     },
     "execution_count": 5,
     "metadata": {},
     "output_type": "execute_result"
    }
   ],
   "source": [
    "df_series = df_points[df_points['match_id'].isin(df_target['match_id'])]\n",
    "\n",
    "df_series.shape"
   ]
  },
  {
   "cell_type": "code",
   "execution_count": 6,
   "metadata": {},
   "outputs": [
    {
     "data": {
      "text/html": [
       "<div>\n",
       "<style>\n",
       "    .dataframe thead tr:only-child th {\n",
       "        text-align: right;\n",
       "    }\n",
       "\n",
       "    .dataframe thead th {\n",
       "        text-align: left;\n",
       "    }\n",
       "\n",
       "    .dataframe tbody tr th {\n",
       "        vertical-align: top;\n",
       "    }\n",
       "</style>\n",
       "<table border=\"1\" class=\"dataframe\">\n",
       "  <thead>\n",
       "    <tr style=\"text-align: right;\">\n",
       "      <th></th>\n",
       "      <th>ElapsedTime</th>\n",
       "      <th>GameNo</th>\n",
       "      <th>GameWinner</th>\n",
       "      <th>History</th>\n",
       "      <th>P1Ace</th>\n",
       "      <th>P1BreakPoint</th>\n",
       "      <th>P1BreakPointMissed</th>\n",
       "      <th>P1BreakPointWon</th>\n",
       "      <th>P1DistanceRun</th>\n",
       "      <th>P1DoubleFault</th>\n",
       "      <th>...</th>\n",
       "      <th>ServingTo</th>\n",
       "      <th>SetNo</th>\n",
       "      <th>SetWinner</th>\n",
       "      <th>Speed_KMH</th>\n",
       "      <th>Speed_MPH</th>\n",
       "      <th>WinnerShotType</th>\n",
       "      <th>WinnerType</th>\n",
       "      <th>Winner_BH</th>\n",
       "      <th>Winner_FH</th>\n",
       "      <th>match_id</th>\n",
       "    </tr>\n",
       "  </thead>\n",
       "  <tbody>\n",
       "    <tr>\n",
       "      <th>7377</th>\n",
       "      <td>0:00:00</td>\n",
       "      <td>1.0</td>\n",
       "      <td>0</td>\n",
       "      <td>NaN</td>\n",
       "      <td>0</td>\n",
       "      <td>0</td>\n",
       "      <td>0</td>\n",
       "      <td>0</td>\n",
       "      <td>0.000</td>\n",
       "      <td>0</td>\n",
       "      <td>...</td>\n",
       "      <td>NaN</td>\n",
       "      <td>1.0</td>\n",
       "      <td>0</td>\n",
       "      <td>0.0</td>\n",
       "      <td>0.0</td>\n",
       "      <td>0</td>\n",
       "      <td>0</td>\n",
       "      <td>NaN</td>\n",
       "      <td>NaN</td>\n",
       "      <td>2017-ausopen-1140</td>\n",
       "    </tr>\n",
       "    <tr>\n",
       "      <th>7378</th>\n",
       "      <td>0:00:00</td>\n",
       "      <td>1.0</td>\n",
       "      <td>0</td>\n",
       "      <td>21010.0</td>\n",
       "      <td>0</td>\n",
       "      <td>0</td>\n",
       "      <td>0</td>\n",
       "      <td>0</td>\n",
       "      <td>8.689</td>\n",
       "      <td>0</td>\n",
       "      <td>...</td>\n",
       "      <td>NaN</td>\n",
       "      <td>1.0</td>\n",
       "      <td>0</td>\n",
       "      <td>183.0</td>\n",
       "      <td>113.0</td>\n",
       "      <td>F</td>\n",
       "      <td>0</td>\n",
       "      <td>NaN</td>\n",
       "      <td>NaN</td>\n",
       "      <td>2017-ausopen-1140</td>\n",
       "    </tr>\n",
       "    <tr>\n",
       "      <th>7379</th>\n",
       "      <td>0:00:26</td>\n",
       "      <td>1.0</td>\n",
       "      <td>0</td>\n",
       "      <td>11030.0</td>\n",
       "      <td>0</td>\n",
       "      <td>0</td>\n",
       "      <td>0</td>\n",
       "      <td>0</td>\n",
       "      <td>2.810</td>\n",
       "      <td>0</td>\n",
       "      <td>...</td>\n",
       "      <td>NaN</td>\n",
       "      <td>1.0</td>\n",
       "      <td>0</td>\n",
       "      <td>196.0</td>\n",
       "      <td>121.0</td>\n",
       "      <td>0</td>\n",
       "      <td>0</td>\n",
       "      <td>NaN</td>\n",
       "      <td>NaN</td>\n",
       "      <td>2017-ausopen-1140</td>\n",
       "    </tr>\n",
       "    <tr>\n",
       "      <th>7380</th>\n",
       "      <td>0:00:47</td>\n",
       "      <td>1.0</td>\n",
       "      <td>0</td>\n",
       "      <td>21520.0</td>\n",
       "      <td>0</td>\n",
       "      <td>0</td>\n",
       "      <td>0</td>\n",
       "      <td>0</td>\n",
       "      <td>21.221</td>\n",
       "      <td>0</td>\n",
       "      <td>...</td>\n",
       "      <td>NaN</td>\n",
       "      <td>1.0</td>\n",
       "      <td>0</td>\n",
       "      <td>167.0</td>\n",
       "      <td>103.0</td>\n",
       "      <td>0</td>\n",
       "      <td>0</td>\n",
       "      <td>NaN</td>\n",
       "      <td>NaN</td>\n",
       "      <td>2017-ausopen-1140</td>\n",
       "    </tr>\n",
       "    <tr>\n",
       "      <th>7381</th>\n",
       "      <td>0:01:38</td>\n",
       "      <td>1.0</td>\n",
       "      <td>0</td>\n",
       "      <td>11030.0</td>\n",
       "      <td>0</td>\n",
       "      <td>0</td>\n",
       "      <td>0</td>\n",
       "      <td>0</td>\n",
       "      <td>16.306</td>\n",
       "      <td>0</td>\n",
       "      <td>...</td>\n",
       "      <td>NaN</td>\n",
       "      <td>1.0</td>\n",
       "      <td>0</td>\n",
       "      <td>194.0</td>\n",
       "      <td>120.0</td>\n",
       "      <td>0</td>\n",
       "      <td>0</td>\n",
       "      <td>NaN</td>\n",
       "      <td>NaN</td>\n",
       "      <td>2017-ausopen-1140</td>\n",
       "    </tr>\n",
       "  </tbody>\n",
       "</table>\n",
       "<p>5 rows × 65 columns</p>\n",
       "</div>"
      ],
      "text/plain": [
       "     ElapsedTime  GameNo  GameWinner  History  P1Ace  P1BreakPoint  \\\n",
       "7377     0:00:00     1.0           0      NaN      0             0   \n",
       "7378     0:00:00     1.0           0  21010.0      0             0   \n",
       "7379     0:00:26     1.0           0  11030.0      0             0   \n",
       "7380     0:00:47     1.0           0  21520.0      0             0   \n",
       "7381     0:01:38     1.0           0  11030.0      0             0   \n",
       "\n",
       "      P1BreakPointMissed  P1BreakPointWon  P1DistanceRun  P1DoubleFault  \\\n",
       "7377                   0                0          0.000              0   \n",
       "7378                   0                0          8.689              0   \n",
       "7379                   0                0          2.810              0   \n",
       "7380                   0                0         21.221              0   \n",
       "7381                   0                0         16.306              0   \n",
       "\n",
       "            ...          ServingTo  SetNo  SetWinner  Speed_KMH  Speed_MPH  \\\n",
       "7377        ...                NaN    1.0          0        0.0        0.0   \n",
       "7378        ...                NaN    1.0          0      183.0      113.0   \n",
       "7379        ...                NaN    1.0          0      196.0      121.0   \n",
       "7380        ...                NaN    1.0          0      167.0      103.0   \n",
       "7381        ...                NaN    1.0          0      194.0      120.0   \n",
       "\n",
       "      WinnerShotType  WinnerType  Winner_BH Winner_FH           match_id  \n",
       "7377               0           0        NaN       NaN  2017-ausopen-1140  \n",
       "7378               F           0        NaN       NaN  2017-ausopen-1140  \n",
       "7379               0           0        NaN       NaN  2017-ausopen-1140  \n",
       "7380               0           0        NaN       NaN  2017-ausopen-1140  \n",
       "7381               0           0        NaN       NaN  2017-ausopen-1140  \n",
       "\n",
       "[5 rows x 65 columns]"
      ]
     },
     "execution_count": 6,
     "metadata": {},
     "output_type": "execute_result"
    }
   ],
   "source": [
    "df_series.head()"
   ]
  },
  {
   "cell_type": "code",
   "execution_count": 7,
   "metadata": {},
   "outputs": [
    {
     "data": {
      "text/plain": [
       "Index(['ElapsedTime', 'GameNo', 'GameWinner', 'History', 'P1Ace',\n",
       "       'P1BreakPoint', 'P1BreakPointMissed', 'P1BreakPointWon',\n",
       "       'P1DistanceRun', 'P1DoubleFault', 'P1FirstSrvIn', 'P1FirstSrvWon',\n",
       "       'P1ForcedError', 'P1GamesWon', 'P1Momentum', 'P1NetPoint',\n",
       "       'P1NetPointWon', 'P1PointsWon', 'P1Score', 'P1SecondSrvIn',\n",
       "       'P1SecondSrvWon', 'P1TurningPoint', 'P1UnfErr', 'P1Winner', 'P2Ace',\n",
       "       'P2BreakPoint', 'P2BreakPointMissed', 'P2BreakPointWon',\n",
       "       'P2DistanceRun', 'P2DoubleFault', 'P2FirstSrvIn', 'P2FirstSrvWon',\n",
       "       'P2ForcedError', 'P2GamesWon', 'P2Momentum', 'P2NetPoint',\n",
       "       'P2NetPointWon', 'P2PointsWon', 'P2Score', 'P2SecondSrvIn',\n",
       "       'P2SecondSrvWon', 'P2TurningPoint', 'P2UnfErr', 'P2Winner',\n",
       "       'PointNumber', 'PointServer', 'PointWinner', 'Rally', 'RallyCount',\n",
       "       'ReturnDepth', 'ServeDepth', 'ServeIndicator', 'ServeNumber',\n",
       "       'ServeWidth', 'Serve_Direction', 'ServingTo', 'SetNo', 'SetWinner',\n",
       "       'Speed_KMH', 'Speed_MPH', 'WinnerShotType', 'WinnerType', 'Winner_BH',\n",
       "       'Winner_FH', 'match_id'],\n",
       "      dtype='object')"
      ]
     },
     "execution_count": 7,
     "metadata": {},
     "output_type": "execute_result"
    }
   ],
   "source": [
    "df_series.columns"
   ]
  },
  {
   "cell_type": "markdown",
   "metadata": {},
   "source": [
    "## Step 2: estimating distributions\n",
    "\n",
    "For this demo, I want to estimate a few distributions from the data we have; namely, I want to:\n",
    "\n",
    "- Estimate the distribution for the service speed\n",
    "- Estimate the probability that an Ace is scored given the service speed\n",
    "- Estimate the probability that a player responds to any given shot\n",
    "- Estimate the probability that a point is scored with any given shot\n",
    "- Estimate the probability that a break point is won\n",
    "\n",
    "Let's do one thing at a time, as trying to compute all of this from the same dataframe would be a mess..\n",
    "\n",
    "### Service Speeds and Aces"
   ]
  },
  {
   "cell_type": "code",
   "execution_count": 8,
   "metadata": {},
   "outputs": [
    {
     "data": {
      "text/html": [
       "<div>\n",
       "<style>\n",
       "    .dataframe thead tr:only-child th {\n",
       "        text-align: right;\n",
       "    }\n",
       "\n",
       "    .dataframe thead th {\n",
       "        text-align: left;\n",
       "    }\n",
       "\n",
       "    .dataframe tbody tr th {\n",
       "        vertical-align: top;\n",
       "    }\n",
       "</style>\n",
       "<table border=\"1\" class=\"dataframe\">\n",
       "  <thead>\n",
       "    <tr style=\"text-align: right;\">\n",
       "      <th></th>\n",
       "      <th>Speed</th>\n",
       "      <th>IsAce</th>\n",
       "    </tr>\n",
       "  </thead>\n",
       "  <tbody>\n",
       "    <tr>\n",
       "      <th>1342</th>\n",
       "      <td>159.0</td>\n",
       "      <td>0</td>\n",
       "    </tr>\n",
       "    <tr>\n",
       "      <th>2395</th>\n",
       "      <td>175.0</td>\n",
       "      <td>0</td>\n",
       "    </tr>\n",
       "    <tr>\n",
       "      <th>15141</th>\n",
       "      <td>172.0</td>\n",
       "      <td>0</td>\n",
       "    </tr>\n",
       "    <tr>\n",
       "      <th>7380</th>\n",
       "      <td>185.0</td>\n",
       "      <td>0</td>\n",
       "    </tr>\n",
       "    <tr>\n",
       "      <th>13367</th>\n",
       "      <td>181.0</td>\n",
       "      <td>0</td>\n",
       "    </tr>\n",
       "  </tbody>\n",
       "</table>\n",
       "</div>"
      ],
      "text/plain": [
       "       Speed  IsAce\n",
       "1342   159.0      0\n",
       "2395   175.0      0\n",
       "15141  172.0      0\n",
       "7380   185.0      0\n",
       "13367  181.0      0"
      ]
     },
     "execution_count": 8,
     "metadata": {},
     "output_type": "execute_result"
    }
   ],
   "source": [
    "df_p1 = df_matches[df_matches['player1'] == 'Rafael Nadal']\n",
    "df_speed_p1 = df_series[df_series['match_id'].isin(df_p1['match_id'])][['PointServer', 'Speed_KMH', 'P1Ace']]\n",
    "df_speed_p1 = df_speed_p1[df_speed_p1['PointServer'] == 1]\n",
    "df_speed_p1.columns = ['Server', 'Speed', 'IsAce']\n",
    "\n",
    "df_p2 = df_matches[df_matches['player2'] == 'Rafael Nadal']\n",
    "df_speed_p2 = df_series[df_series['match_id'].isin(df_p2['match_id'])][['PointServer', 'Speed_KMH', 'P2Ace']]\n",
    "df_speed_p2 = df_speed_p2[df_speed_p2['PointServer'] == 2]\n",
    "df_speed_p2.columns = ['Server', 'Speed', 'IsAce']\n",
    "\n",
    "df_speed = pd.concat([\n",
    "    df_speed_p1,\n",
    "    df_speed_p2\n",
    "])\n",
    "\n",
    "df_speed = df_speed[df_speed['Speed'] != 0].drop(['Server'], axis=1)\n",
    "\n",
    "df_speed.sample(5)"
   ]
  },
  {
   "cell_type": "code",
   "execution_count": 9,
   "metadata": {},
   "outputs": [
    {
     "data": {
      "text/plain": [
       "(4465, 2)"
      ]
     },
     "execution_count": 9,
     "metadata": {},
     "output_type": "execute_result"
    }
   ],
   "source": [
    "df_speed.shape"
   ]
  },
  {
   "cell_type": "markdown",
   "metadata": {},
   "source": [
    "So we have the data for 4465 services from Nadal; for each service we know speed (in Km/h) and whether it was an Ace or not.\n",
    "\n",
    "Let's do some visualization as a sanity check before estimating the distribution"
   ]
  },
  {
   "cell_type": "code",
   "execution_count": 10,
   "metadata": {
    "collapsed": true
   },
   "outputs": [],
   "source": [
    "import matplotlib.pyplot as plt\n",
    "%matplotlib inline\n",
    "\n",
    "import seaborn as sns\n",
    "sns.set()"
   ]
  },
  {
   "cell_type": "code",
   "execution_count": 11,
   "metadata": {},
   "outputs": [
    {
     "data": {
      "image/png": "[encoded data removed]",
      "text/plain": [
       "<matplotlib.figure.Figure at 0x14e020c2cf8>"
      ]
     },
     "metadata": {},
     "output_type": "display_data"
    }
   ],
   "source": [
    "df_speed['Speed'].plot(kind='kde', figsize=(10, 7));"
   ]
  },
  {
   "cell_type": "code",
   "execution_count": 12,
   "metadata": {},
   "outputs": [
    {
     "data": {
      "text/plain": [
       "<seaborn.axisgrid.JointGrid at 0x14e04759080>"
      ]
     },
     "execution_count": 12,
     "metadata": {},
     "output_type": "execute_result"
    },
    {
     "data": {
      "image/png": "[encoded data removed]",
      "text/plain": [
       "<matplotlib.figure.Figure at 0x14e047590f0>"
      ]
     },
     "metadata": {},
     "output_type": "display_data"
    }
   ],
   "source": [
    "sns.jointplot(\"Speed\", \"IsAce\", df_speed, kind='scatter', ratio=2)"
   ]
  },
  {
   "cell_type": "code",
   "execution_count": 13,
   "metadata": {
    "collapsed": true
   },
   "outputs": [],
   "source": [
    "from sklearn.neighbors import KernelDensity"
   ]
  },
  {
   "cell_type": "code",
   "execution_count": 14,
   "metadata": {
    "scrolled": true
   },
   "outputs": [
    {
     "data": {
      "text/plain": [
       "KernelDensity(algorithm='auto', atol=0, bandwidth=0.75, breadth_first=True,\n",
       "       kernel='gaussian', leaf_size=40, metric='euclidean',\n",
       "       metric_params=None, rtol=0)"
      ]
     },
     "execution_count": 14,
     "metadata": {},
     "output_type": "execute_result"
    }
   ],
   "source": [
    "k = KernelDensity(kernel='gaussian', bandwidth=0.75)\n",
    "\n",
    "k.fit(df_speed['Speed'].values.reshape(-1, 1))"
   ]
  },
  {
   "cell_type": "markdown",
   "metadata": {},
   "source": [
    "Now let's compare the sample distribution and the real serie"
   ]
  },
  {
   "cell_type": "code",
   "execution_count": 15,
   "metadata": {},
   "outputs": [
    {
     "data": {
      "image/png": "[encoded data removed]",
      "text/plain": [
       "<matplotlib.figure.Figure at 0x14e04c6eda0>"
      ]
     },
     "metadata": {},
     "output_type": "display_data"
    }
   ],
   "source": [
    "sampled = k.sample(df_speed.shape[0])\n",
    "\n",
    "g = sns.distplot(df_speed['Speed'])\n",
    "sns.distplot(sampled);"
   ]
  },
  {
   "cell_type": "markdown",
   "metadata": {},
   "source": [
    "Let's now move to ace estimation; I will simply compute how likely it is that a certain service with a certain speed is going to be an Ace"
   ]
  },
  {
   "cell_type": "code",
   "execution_count": 16,
   "metadata": {},
   "outputs": [
    {
     "data": {
      "text/plain": [
       "IsAce\n",
       "0    0.958119\n",
       "1    0.041881\n",
       "dtype: float64"
      ]
     },
     "execution_count": 16,
     "metadata": {},
     "output_type": "execute_result"
    }
   ],
   "source": [
    "ace_probs = df_speed.groupby('IsAce').size().div(len(df_speed))\n",
    "\n",
    "ace_probs.head()"
   ]
  },
  {
   "cell_type": "code",
   "execution_count": 17,
   "metadata": {},
   "outputs": [
    {
     "data": {
      "text/plain": [
       "Speed  IsAce\n",
       "160.0  1        0.005348\n",
       "196.0  1        0.053476\n",
       "127.0  0        0.002104\n",
       "157.0  0        0.008181\n",
       "159.0  0        0.011921\n",
       "200.0  1        0.010695\n",
       "dtype: float64"
      ]
     },
     "execution_count": 17,
     "metadata": {},
     "output_type": "execute_result"
    }
   ],
   "source": [
    "cond_prob = df_speed.groupby(['Speed', 'IsAce']).size().div(len(df_speed)).div(ace_probs, axis=0, level='IsAce');\n",
    "\n",
    "cond_prob.sample(6)"
   ]
  },
  {
   "cell_type": "markdown",
   "metadata": {},
   "source": [
    "Let's try to simulate 5 services using the estimated distribution and then compute how likely they are to be an ace"
   ]
  },
  {
   "cell_type": "code",
   "execution_count": 18,
   "metadata": {
    "collapsed": true
   },
   "outputs": [],
   "source": [
    "cond_prob = cond_prob.reset_index()"
   ]
  },
  {
   "cell_type": "code",
   "execution_count": 19,
   "metadata": {},
   "outputs": [
    {
     "name": "stdout",
     "output_type": "stream",
     "text": [
      "Service speed: 147\n",
      "Ace probability not sampled, average (speed +- 1)\n",
      "Service speed: 138\n",
      "Ace probability not sampled, average (speed +- 1)\n",
      "Service speed: 176\n",
      "Probability of being ace: 0.010695\n",
      "Probability of not being ace: 0.989305\n"
     ]
    }
   ],
   "source": [
    "sampled = k.sample(3)\n",
    "\n",
    "for service in sampled:\n",
    "    service = int(service)\n",
    "    print('Service speed: %d' % service)\n",
    "    prob_ace = cond_prob[(cond_prob['Speed'] == service) & cond_prob['IsAce'] == 1]\n",
    "    try:\n",
    "        prob = prob_ace.values[0][2]\n",
    "        print('Probability of being ace: %f' % prob)\n",
    "        print('Probability of not being ace: %f' % (1-prob))\n",
    "    except IndexError:\n",
    "        print('Ace probability not sampled, average (speed +- 1)')"
   ]
  },
  {
   "cell_type": "markdown",
   "metadata": {},
   "source": [
    "One would also need to compute the conditional probability of a service being a foul given the speed of the service.\n",
    "\n",
    "### Ability to respond\n",
    "\n",
    "Work in progress"
   ]
  },
  {
   "cell_type": "code",
   "execution_count": null,
   "metadata": {
    "collapsed": true
   },
   "outputs": [],
   "source": []
  }
 ],
 "metadata": {
  "kernelspec": {
   "display_name": "Python 3",
   "language": "python",
   "name": "python3"
  },
  "language_info": {
   "codemirror_mode": {
    "name": "ipython",
    "version": 3
   },
   "file_extension": ".py",
   "mimetype": "text/x-python",
   "name": "python",
   "nbconvert_exporter": "python",
   "pygments_lexer": "ipython3",
   "version": "3.6.1"
  }
 },
 "nbformat": 4,
 "nbformat_minor": 2
}
